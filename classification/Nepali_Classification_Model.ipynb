{
 "cells": [
  {
   "cell_type": "code",
   "execution_count": 1,
   "metadata": {},
   "outputs": [],
   "source": [
    "from fastai.text import *\n",
    "import numpy as np\n",
    "from sklearn.model_selection import train_test_split\n",
    "import pickle\n",
    "import sentencepiece as spm\n",
    "import re\n",
    "import pdb"
   ]
  },
  {
   "cell_type": "code",
   "execution_count": 2,
   "metadata": {},
   "outputs": [
    {
     "data": {
      "text/plain": [
       "('1.0.57', '1.1.0')"
      ]
     },
     "execution_count": 2,
     "metadata": {},
     "output_type": "execute_result"
    }
   ],
   "source": [
    "import fastai, torch\n",
    "fastai.__version__ , torch.__version__"
   ]
  },
  {
   "cell_type": "code",
   "execution_count": 3,
   "metadata": {},
   "outputs": [],
   "source": [
    "torch.cuda.set_device(0)"
   ]
  },
  {
   "cell_type": "code",
   "execution_count": 4,
   "metadata": {},
   "outputs": [
    {
     "name": "stdout",
     "output_type": "stream",
     "text": [
      "/home/gaurav/PycharmProjects/nlp-for-nepali/classification\r\n"
     ]
    }
   ],
   "source": [
    "!pwd"
   ]
  },
  {
   "cell_type": "code",
   "execution_count": 5,
   "metadata": {},
   "outputs": [],
   "source": [
    "path = Path('/home/gaurav/PycharmProjects/nlp-for-nepali/classification')"
   ]
  },
  {
   "cell_type": "code",
   "execution_count": 6,
   "metadata": {},
   "outputs": [
    {
     "data": {
      "text/html": [
       "<div>\n",
       "<style scoped>\n",
       "    .dataframe tbody tr th:only-of-type {\n",
       "        vertical-align: middle;\n",
       "    }\n",
       "\n",
       "    .dataframe tbody tr th {\n",
       "        vertical-align: top;\n",
       "    }\n",
       "\n",
       "    .dataframe thead th {\n",
       "        text-align: right;\n",
       "    }\n",
       "</style>\n",
       "<table border=\"1\" class=\"dataframe\">\n",
       "  <thead>\n",
       "    <tr style=\"text-align: right;\">\n",
       "      <th></th>\n",
       "      <th>headings</th>\n",
       "      <th>paras</th>\n",
       "      <th>label</th>\n",
       "    </tr>\n",
       "  </thead>\n",
       "  <tbody>\n",
       "    <tr>\n",
       "      <td>0</td>\n",
       "      <td>‘लभ स्टेसन’ भियतनाम र इन्डोनेसियामा</td>\n",
       "      <td>नेपाली कथानक फिल्म ‘लभ स्टेसन’ को टिम यति बेला...</td>\n",
       "      <td>entertainment</td>\n",
       "    </tr>\n",
       "    <tr>\n",
       "      <td>1</td>\n",
       "      <td>चाडबाडलगत्तै तरकारी सस्तियो</td>\n",
       "      <td>दसैंको मुखमा अस्वाभाविक बढेको तरकारी तथा फलफूल...</td>\n",
       "      <td>business</td>\n",
       "    </tr>\n",
       "    <tr>\n",
       "      <td>2</td>\n",
       "      <td>किङ्गफिसर बियर नेपाली बजारमा</td>\n",
       "      <td>एशियाकै ठूलो बियर कम्पनी मध्येको युनाइटेड ब्रु...</td>\n",
       "      <td>business</td>\n",
       "    </tr>\n",
       "    <tr>\n",
       "      <td>3</td>\n",
       "      <td>अर्बपतिका आँखा अन्तरिक्षतिर</td>\n",
       "      <td>संसारका धनाढ्यहरू अन्तरिक्ष यात्रालाई सस्तो र ...</td>\n",
       "      <td>business</td>\n",
       "    </tr>\n",
       "    <tr>\n",
       "      <td>4</td>\n",
       "      <td>‘आई एम सरी’ भन्दै सौगात</td>\n",
       "      <td>निकेश खड्का निर्देशित फिल्म ‘फाटेको जुत्ता’ को...</td>\n",
       "      <td>entertainment</td>\n",
       "    </tr>\n",
       "  </tbody>\n",
       "</table>\n",
       "</div>"
      ],
      "text/plain": [
       "                              headings  \\\n",
       "0  ‘लभ स्टेसन’ भियतनाम र इन्डोनेसियामा   \n",
       "1          चाडबाडलगत्तै तरकारी सस्तियो   \n",
       "2       किङ्गफिसर बियर नेपाली बजारमा     \n",
       "3          अर्बपतिका आँखा अन्तरिक्षतिर   \n",
       "4              ‘आई एम सरी’ भन्दै सौगात   \n",
       "\n",
       "                                               paras          label  \n",
       "0  नेपाली कथानक फिल्म ‘लभ स्टेसन’ को टिम यति बेला...  entertainment  \n",
       "1  दसैंको मुखमा अस्वाभाविक बढेको तरकारी तथा फलफूल...       business  \n",
       "2  एशियाकै ठूलो बियर कम्पनी मध्येको युनाइटेड ब्रु...       business  \n",
       "3  संसारका धनाढ्यहरू अन्तरिक्ष यात्रालाई सस्तो र ...       business  \n",
       "4  निकेश खड्का निर्देशित फिल्म ‘फाटेको जुत्ता’ को...  entertainment  "
      ]
     },
     "execution_count": 6,
     "metadata": {},
     "output_type": "execute_result"
    }
   ],
   "source": [
    "train_df = pd.read_csv(path/'train.csv')\n",
    "train_df.head()"
   ]
  },
  {
   "cell_type": "code",
   "execution_count": 7,
   "metadata": {},
   "outputs": [
    {
     "data": {
      "text/html": [
       "<div>\n",
       "<style scoped>\n",
       "    .dataframe tbody tr th:only-of-type {\n",
       "        vertical-align: middle;\n",
       "    }\n",
       "\n",
       "    .dataframe tbody tr th {\n",
       "        vertical-align: top;\n",
       "    }\n",
       "\n",
       "    .dataframe thead th {\n",
       "        text-align: right;\n",
       "    }\n",
       "</style>\n",
       "<table border=\"1\" class=\"dataframe\">\n",
       "  <thead>\n",
       "    <tr style=\"text-align: right;\">\n",
       "      <th></th>\n",
       "      <th>headings</th>\n",
       "      <th>paras</th>\n",
       "      <th>label</th>\n",
       "    </tr>\n",
       "  </thead>\n",
       "  <tbody>\n",
       "    <tr>\n",
       "      <td>0</td>\n",
       "      <td>१ अर्ब ३९ करोड बजेट फ्रिज</td>\n",
       "      <td>आर्थिक वर्ष २०७४/७५ मा जिल्लामा आएको १ अर्ब ३९...</td>\n",
       "      <td>business</td>\n",
       "    </tr>\n",
       "    <tr>\n",
       "      <td>1</td>\n",
       "      <td>पुनर्निर्माणमा भारतको डेढ अर्ब</td>\n",
       "      <td>गोरखा र नुवाकोटमा भूकम्पबाट क्षतिग्रस्त पचास ह...</td>\n",
       "      <td>business</td>\n",
       "    </tr>\n",
       "    <tr>\n",
       "      <td>2</td>\n",
       "      <td>आपूर्ति विभागलाई शक्तिशाली बनाइँदै</td>\n",
       "      <td>सरकारले उपभोक्ता ठगी गर्ने व्यवसायीलाई वाणिज्य...</td>\n",
       "      <td>business</td>\n",
       "    </tr>\n",
       "    <tr>\n",
       "      <td>3</td>\n",
       "      <td>स्वरसम्राट्को सम्झनामा संग्रहालय</td>\n",
       "      <td>स्वरसम्राट् नारायणगोपालको सम्झनामा संग्रहालय ब...</td>\n",
       "      <td>entertainment</td>\n",
       "    </tr>\n",
       "    <tr>\n",
       "      <td>4</td>\n",
       "      <td>लुम्बिनी सेमिफाइनलमा</td>\n",
       "      <td>लुम्बिनी खुकुरी क्रिकेट क्लब रूपन्देही सुपर लि...</td>\n",
       "      <td>sports</td>\n",
       "    </tr>\n",
       "  </tbody>\n",
       "</table>\n",
       "</div>"
      ],
      "text/plain": [
       "                             headings  \\\n",
       "0           १ अर्ब ३९ करोड बजेट फ्रिज   \n",
       "1      पुनर्निर्माणमा भारतको डेढ अर्ब   \n",
       "2  आपूर्ति विभागलाई शक्तिशाली बनाइँदै   \n",
       "3    स्वरसम्राट्को सम्झनामा संग्रहालय   \n",
       "4                लुम्बिनी सेमिफाइनलमा   \n",
       "\n",
       "                                               paras          label  \n",
       "0  आर्थिक वर्ष २०७४/७५ मा जिल्लामा आएको १ अर्ब ३९...       business  \n",
       "1  गोरखा र नुवाकोटमा भूकम्पबाट क्षतिग्रस्त पचास ह...       business  \n",
       "2  सरकारले उपभोक्ता ठगी गर्ने व्यवसायीलाई वाणिज्य...       business  \n",
       "3  स्वरसम्राट् नारायणगोपालको सम्झनामा संग्रहालय ब...  entertainment  \n",
       "4  लुम्बिनी खुकुरी क्रिकेट क्लब रूपन्देही सुपर लि...         sports  "
      ]
     },
     "execution_count": 7,
     "metadata": {},
     "output_type": "execute_result"
    }
   ],
   "source": [
    "valid_df = pd.read_csv(path/'valid.csv')\n",
    "valid_df.head()"
   ]
  },
  {
   "cell_type": "code",
   "execution_count": 9,
   "metadata": {},
   "outputs": [
    {
     "name": "stdout",
     "output_type": "stream",
     "text": [
      "In Training data:\n",
      "entertainment 1817\n",
      "business 2118\n",
      "sports 2040\n"
     ]
    }
   ],
   "source": [
    "print('In Training data:')\n",
    "for cls in train_df['label'].unique():\n",
    "    print(cls, (train_df['label'] == cls).sum())"
   ]
  },
  {
   "cell_type": "code",
   "execution_count": 11,
   "metadata": {},
   "outputs": [
    {
     "name": "stdout",
     "output_type": "stream",
     "text": [
      "In Validation data:\n",
      "business 510\n",
      "entertainment 451\n",
      "sports 534\n"
     ]
    }
   ],
   "source": [
    "print('In Validation data:')\n",
    "for cls in valid_df['label'].unique():\n",
    "    print(cls, (valid_df['label'] == cls).sum())"
   ]
  },
  {
   "cell_type": "code",
   "execution_count": 12,
   "metadata": {},
   "outputs": [
    {
     "data": {
      "text/plain": [
       "'‘लभ स्टेसन’ भियतनाम र इन्डोनेसियामा'"
      ]
     },
     "execution_count": 12,
     "metadata": {},
     "output_type": "execute_result"
    }
   ],
   "source": [
    "train_df['headings'][0]"
   ]
  },
  {
   "cell_type": "code",
   "execution_count": 13,
   "metadata": {},
   "outputs": [
    {
     "data": {
      "text/plain": [
       "((5975, 3), (1495, 3))"
      ]
     },
     "execution_count": 13,
     "metadata": {},
     "output_type": "execute_result"
    }
   ],
   "source": [
    "train_df.shape, valid_df.shape"
   ]
  },
  {
   "cell_type": "code",
   "execution_count": 14,
   "metadata": {},
   "outputs": [
    {
     "data": {
      "text/plain": [
       "((0, 3), (0, 3))"
      ]
     },
     "execution_count": 14,
     "metadata": {},
     "output_type": "execute_result"
    }
   ],
   "source": [
    "train_df[train_df['headings'].isnull()].shape, valid_df[valid_df['paras'].isnull()].shape"
   ]
  },
  {
   "cell_type": "code",
   "execution_count": 16,
   "metadata": {},
   "outputs": [],
   "source": [
    "label_cols = list(range(2,train_df.shape[1]))"
   ]
  },
  {
   "cell_type": "code",
   "execution_count": 17,
   "metadata": {},
   "outputs": [
    {
     "name": "stdout",
     "output_type": "stream",
     "text": [
      "[2]\n"
     ]
    }
   ],
   "source": [
    "print(label_cols)"
   ]
  },
  {
   "cell_type": "code",
   "execution_count": 19,
   "metadata": {},
   "outputs": [],
   "source": [
    "id_to_col = list(train_df.columns)"
   ]
  },
  {
   "cell_type": "code",
   "execution_count": 20,
   "metadata": {},
   "outputs": [],
   "source": [
    "col_to_id = {}\n",
    "for i, col in enumerate(id_to_col):\n",
    "    col_to_id[col] = i"
   ]
  },
  {
   "cell_type": "code",
   "execution_count": 21,
   "metadata": {},
   "outputs": [],
   "source": [
    "class NepaliTokenizer(BaseTokenizer):\n",
    "    def __init__(self, lang:str):\n",
    "        self.lang = lang\n",
    "        self.sp = spm.SentencePieceProcessor()\n",
    "        self.sp.Load(str(path/\"../tokenizer/nepali_lm.model\"))\n",
    "        \n",
    "    def tokenizer(self, t:str) -> List[str]:\n",
    "        return self.sp.EncodeAsPieces(t)"
   ]
  },
  {
   "cell_type": "code",
   "execution_count": 22,
   "metadata": {},
   "outputs": [],
   "source": [
    "sp = spm.SentencePieceProcessor()\n",
    "sp.Load(str(path/\"../tokenizer/nepali_lm.model\"))\n",
    "itos = [sp.IdToPiece(int(i)) for i in range(15000)]"
   ]
  },
  {
   "cell_type": "code",
   "execution_count": 23,
   "metadata": {},
   "outputs": [
    {
     "data": {
      "text/plain": [
       "['<unk>', '<s>', '</s>', '▁', 'को', '।', ',', 'मा', '▁।', '▁र']"
      ]
     },
     "execution_count": 23,
     "metadata": {},
     "output_type": "execute_result"
    }
   ],
   "source": [
    "itos[:10]"
   ]
  },
  {
   "cell_type": "code",
   "execution_count": 24,
   "metadata": {},
   "outputs": [],
   "source": [
    "# 15,000 is the vocab size that we chose in sentencepiece\n",
    "nepali_vocab = Vocab(itos)"
   ]
  },
  {
   "cell_type": "code",
   "execution_count": 25,
   "metadata": {},
   "outputs": [],
   "source": [
    "tokenizer = Tokenizer(tok_func=NepaliTokenizer, lang='ne')"
   ]
  },
  {
   "cell_type": "code",
   "execution_count": 26,
   "metadata": {},
   "outputs": [
    {
     "data": {
      "text/plain": [
       "['xxunk',\n",
       " 'xxpad',\n",
       " 'xxbos',\n",
       " 'xxeos',\n",
       " 'xxfld',\n",
       " 'xxmaj',\n",
       " 'xxup',\n",
       " 'xxrep',\n",
       " 'xxwrep']"
      ]
     },
     "execution_count": 26,
     "metadata": {},
     "output_type": "execute_result"
    }
   ],
   "source": [
    "tokenizer.special_cases"
   ]
  },
  {
   "cell_type": "code",
   "execution_count": 27,
   "metadata": {},
   "outputs": [],
   "source": [
    "data_lm = TextLMDataBunch.from_df(path=path, train_df=train_df, valid_df=valid_df, text_cols=[0,1], label_cols=label_cols, tokenizer=tokenizer, vocab=nepali_vocab, bs=16)"
   ]
  },
  {
   "cell_type": "code",
   "execution_count": 28,
   "metadata": {},
   "outputs": [],
   "source": [
    "data_lm.save()"
   ]
  },
  {
   "cell_type": "code",
   "execution_count": 29,
   "metadata": {},
   "outputs": [
    {
     "data": {
      "text/html": [
       "<table border=\"1\" class=\"dataframe\">\n",
       "  <thead>\n",
       "    <tr style=\"text-align: right;\">\n",
       "      <th>idx</th>\n",
       "      <th>text</th>\n",
       "    </tr>\n",
       "  </thead>\n",
       "  <tbody>\n",
       "    <tr>\n",
       "      <td>0</td>\n",
       "      <td>▁टिम ▁यी ▁देश ▁पुगेका ▁हुन् ▁। ▁ x x b os ▁चाड बा ड लग त्त ै ▁तरकारी ▁स स्त ियो ▁दसैं को ▁मुखमा ▁अ स्वा भाव िक ▁बढेको ▁तरकारी ▁तथा ▁फलफूल को ▁भा उ ▁घट ्न ▁थालेको ▁छ ▁। ▁उत्पादन ▁वृद्धि सँगै ▁सहज ▁आपूर्ति का ▁कारण ▁मूल्य ▁घटे को ▁हो ▁। ▁ x x b os ▁कि ङ्ग फिस र ▁बियर ▁नेपाली ▁बजारमा ▁एशिय ा कै ▁ठूलो ▁बियर ▁कम्पनी</td>\n",
       "    </tr>\n",
       "    <tr>\n",
       "      <td>1</td>\n",
       "      <td>▁श्रेष्ठ ले ▁फिल्म ▁‘ कथा ▁काठ मा ण्ड ु ’ ▁मार्फत ▁निर्देशन मा ▁डेब्यु ▁गर्न ▁लागे की ▁छन् ▁। ▁ x x b os ▁अभिनेत्री ▁ए न्स र्ज ▁भन्छ िन् , ▁‘ संस्कृति का ▁लागि ▁फिल्म ’ ▁पछिल्लो ▁समय ▁आदिवासी ▁जनजाति ▁फिल्म हरूलाई ▁लागेको ▁एउटै ▁आरोप ▁छ – ▁भाषा ▁मात्रै ▁सम्बन्धित ▁समुदाय को , ▁विषयवस्तु ▁र ▁प्रस्तुति ▁भने ▁नेपाली ▁या ▁हिन्दी बाटै ▁प्रभावित ▁। ▁तामाङ , ▁मगर , ▁गुरुङ ▁या</td>\n",
       "    </tr>\n",
       "    <tr>\n",
       "      <td>2</td>\n",
       "      <td>स्क्रिप्ट ▁तयार ▁पारे ▁। ▁ज्याक ी ले ▁नै ▁फिल्म ▁निर्माण सँगै ▁अभिनय समेत ▁गरे ▁। ▁ x x b os ▁पि ं का थन ▁शनिबार ▁भारतका ▁आठ ▁सहरमा ▁गरी ▁ &lt;unk&gt; ▁हजार ▁महिला ▁सहभागी ▁हुने ▁पि ं का थन ▁दौड ▁ गत ▁सालदेखि ▁नेपालमा ▁पनि ▁सुरु ▁भएको ▁हो ▁। ▁यसका ▁संस्थापक ▁मिलि न्द ▁सोम न ▁कार्यक्रम का ▁लागि ▁पटक – पटक ▁नेपाल ▁आउने ▁गरेका ▁छन् ▁। ▁काठमाडौं को ▁दौड मा</td>\n",
       "    </tr>\n",
       "    <tr>\n",
       "      <td>3</td>\n",
       "      <td>’ ▁ ले ▁पहिलो ▁पटक ▁अमेरिका ▁टु र ▁गर्न ▁लागेको ▁छ ▁। ▁असार ▁ &lt;unk&gt; ▁देखि ▁साउन भर ▁उता का ▁विभिन्न ▁सहरमा ▁प्रस्तुति ▁दिने ▁ब्यान्ड ले ▁जानकारी ▁दिएको ▁छ ▁। ▁ x x b os ▁यस्तो ▁भयो ▁ग्या ल् बो ▁ल्होसार ▁शुक्रबार देखि ▁शेर्पा , ▁ह यो ल्मो लगायत ▁हिमाली ▁समुदाय को ▁नयाँ ▁बर्ष ▁ग्या ल् बो ▁ल्होसार ▁सुरु ▁भयो ▁। ▁यस पटक ▁मल मा स ▁परेका ले ▁केही ▁तामाङ</td>\n",
       "    </tr>\n",
       "    <tr>\n",
       "      <td>4</td>\n",
       "      <td>▁लागि ▁धेरै ▁समीकरण ▁बाँकी ▁छैन ▁। ▁जि म्बा वे मा ▁भइरहेको ▁प्रतियोगितामा ▁नेपालले ▁बाँकी ▁ &lt;unk&gt; ▁खेलमा ▁स्पष्ट ▁विजय ▁हात ▁पार्न ुपर्छ ▁। ▁सुपर ▁सि क्स मा ▁पुग्न ▁अफगानिस्तान ▁र ▁हङकङ को ▁चाहिँ ▁खेल ▁जित्न ै पर्छ ▁। ▁ x x b os ▁जे शि का को ▁सन स नी ▁इटहरी मा ▁जारी ▁सातौं ▁पुष्पलाल ▁स्मृति ▁राष्ट्रिय ▁ब्याडमिन्टन मा ▁शुक्रबार ▁झापा की ▁जे शि का ▁गुरुङ ले ▁राष्ट्रिय ▁च्याम्पियन ▁न</td>\n",
       "    </tr>\n",
       "  </tbody>\n",
       "</table>"
      ],
      "text/plain": [
       "<IPython.core.display.HTML object>"
      ]
     },
     "metadata": {},
     "output_type": "display_data"
    }
   ],
   "source": [
    "data_lm.show_batch()"
   ]
  },
  {
   "cell_type": "code",
   "execution_count": 30,
   "metadata": {},
   "outputs": [],
   "source": [
    "awd_lstm_config = awd_lstm_lm_config.copy()\n",
    "awd_lstm_config['n_hid'] = 1150"
   ]
  },
  {
   "cell_type": "code",
   "execution_count": 31,
   "metadata": {},
   "outputs": [],
   "source": [
    "learn = language_model_learner(data_lm, arch=AWD_LSTM, drop_mult=0.3, config=awd_lstm_config, pretrained=False)"
   ]
  },
  {
   "cell_type": "code",
   "execution_count": 35,
   "metadata": {
    "scrolled": true
   },
   "outputs": [
    {
     "data": {
      "text/plain": [
       "LanguageLearner(data=TextLMDataBunch;\n",
       "\n",
       "Train: LabelList (5975 items)\n",
       "x: LMTextList\n",
       "▁ x x b os ▁‘ ल भ ▁स्टेसन ’ ▁भियतनाम ▁र ▁इन्डोनेसिया मा ▁नेपाली ▁कथानक ▁फिल्म ▁‘ ल भ ▁स्टेसन ’ ▁को ▁टिम ▁यति ▁बेला ▁भियतनाम ▁र ▁इन्डोनेसिया मा ▁छ ▁। ▁फिल्म को ▁गीत ▁छाया ंक न का ▁लागि ▁अभिनेता ▁प्रदीप ▁खड्का , ▁अभिनेत्री ▁जस िता ▁गुरुङ , ▁निर्माता ▁गोविन्द ▁शाही , ▁को रियो ग्राफ र ▁शिशिर ▁खा ती , ▁क्यामेरा ▁पर् सन ▁आ लोक ▁शुक्ल ा सहित को ▁टिम ▁यी ▁देश ▁पुगेका ▁हुन् ▁।,▁ x x b os ▁चाड बा ड लग त्त ै ▁तरकारी ▁स स्त ियो ▁दसैं को ▁मुखमा ▁अ स्वा भाव िक ▁बढेको ▁तरकारी ▁तथा ▁फलफूल को ▁भा उ ▁घट ्न ▁थालेको ▁छ ▁। ▁उत्पादन ▁वृद्धि सँगै ▁सहज ▁आपूर्ति का ▁कारण ▁मूल्य ▁घटे को ▁हो ▁।,▁ x x b os ▁कि ङ्ग फिस र ▁बियर ▁नेपाली ▁बजारमा ▁एशिय ा कै ▁ठूलो ▁बियर ▁कम्पनी ▁मध्येको ▁युनाइटेड ▁ब्रु अर ीज ▁लिमिटेड ले ▁यति ▁ब्रु अ री सँग को ▁सहकार्य मा ▁कि ङ्ग फिस र ▁बियर ▁बजारमा ▁ल्याएको ▁छ ▁।,▁ x x b os ▁अर्ब पति का ▁आँखा ▁अन्तरिक्ष तिर ▁संसार का ▁धन ा ढ ्य हरू ▁अन्तरिक्ष ▁यात्रा लाई ▁सस्तो ▁र ▁व्यावसायिक ▁रूपमा ▁सा कार ▁बनाउने ▁अभियानमा ▁स ामेल ▁हुने ▁क्रम ▁बढ्द ो ▁छ ▁। ▁यिनै मध्ये का ▁हुन् ▁अमेरिकी ▁अर्ब पति ▁इ लन ▁मस्क , ▁जे फ ▁बे जो स् ▁र ▁बेलायती ▁टाइ कु न ▁रिचर्ड ▁ब्रा न सन ▁।,▁ x x b os ▁‘ आई ▁एम ▁स री ’ ▁भन्दै ▁सौ गा त ▁ निक ेश ▁खड्का ▁निर्देशित ▁फिल्म ▁‘ फा टे को ▁जुत्ता ’ ▁को ▁हालै ▁सार्वजनिक ▁गीतमा ▁अभिनेता ▁सौ गा त ▁मल्ल ▁र ▁प्रिय ं का ▁कार्की ▁फि चर िङ ▁छन् ▁। ▁जसमा ▁सौ गा त ले ▁प्रिय ं का सँग ▁माफी ▁माग्ने ▁मु ड मा ▁फ क ाइरहेका ▁छन् ▁।\n",
       "y: LMLabelList\n",
       ",,,,\n",
       "Path: /home/gaurav/PycharmProjects/nlp-for-nepali/classification;\n",
       "\n",
       "Valid: LabelList (1495 items)\n",
       "x: LMTextList\n",
       "▁ x x b os ▁ <unk> ▁अर्ब ▁ <unk> ▁करोड ▁बजेट ▁फ्र िज ▁आर्थिक ▁वर्ष ▁ <unk> ▁/ ▁ <unk> ▁मा ▁जिल्लामा ▁आएको ▁ <unk> ▁अर्ब ▁ <unk> ▁करोड ▁ <unk> ▁लाख ▁रकम ▁फ्र िज ▁भएको ▁छ ▁। ▁चाल ु तर्फ ▁ <unk> ▁करोड ▁ <unk> ▁लाख ▁ <unk> ▁हजार ▁र ▁पुँजी गत तर्फ ▁ <unk> ▁करोड ▁ <unk> ▁लाख ▁ <unk> ▁हजार ▁रूपैयाँ ▁खर्च ▁हुन ▁नसके र ▁फिर्ता ▁गएको ▁हो ▁।,▁ x x b os ▁पुनर्निर्माण मा ▁भारतको ▁डेढ ▁अर्ब ▁गोरखा ▁र ▁नुवाकोट मा ▁भूकम्प बाट ▁क्षति ग्रस्त ▁पचास ▁हजार ▁घरको ▁पुनर्निर्माण का ▁लागि ▁भारत ▁सरकार ले ▁ <unk> ▁करोड ▁ <unk> ▁लाख ▁अमेरिकी ▁डलर ▁ ( <unk> ▁अर्ब ▁ <unk> ▁करोड ▁ <unk> ▁लाख ▁रुपैयाँ ) ▁अनुदान ▁सहयोग ▁गर्ने ▁भएको ▁छ ▁।,▁ x x b os ▁आपूर्ति ▁विभाग लाई ▁शक्तिशाली ▁बनाइ ँदै ▁सरकार ले ▁उपभोक्ता ▁ठ गी ▁गर्ने ▁व्यवसायी लाई ▁वाणिज्य , ▁आ पू ि र्त ▁तथा ▁उपभोक्ता ▁संरक्षण ▁विभाग ले ▁नै ▁कारबाही ▁गर्न ▁सक्ने ▁अधिकार सहित को ▁कानुन ▁जारी ▁गर्न ▁लागेको ▁छ ▁। ▁प्रस्तावित ▁उपभोक्ता ▁संरक्षण ▁ऐन ▁ <unk> ▁को ▁मस्यौदा मा ▁अनुगमन ▁निरीक्षक लाई ▁उक्त ▁अधिकार ▁दिन ▁लागेको ▁हो ▁।,▁ x x b os ▁स्वर सम् रा ट् को ▁सम्झना मा ▁संग्रहालय ▁स्वर सम् रा ट् ▁नारायणगोपाल को ▁सम्झना मा ▁संग्रहालय ▁बनाउने ▁तयारी ▁सुरु ▁भएको ▁छ ▁। ▁काठमाडौं ▁महानगरपालिका ▁वडा ▁नं . ▁ <unk> ▁मा ▁सो ▁संग्रहालय ▁बन्न ▁लागेको ▁वडा ध्यक्ष ▁दीपक ▁केसी ले ▁बताए ▁।,▁ x x b os ▁लुम्बिनी ▁सेमिफाइनल मा ▁लुम्बिनी ▁खुकुरी ▁क्रिकेट ▁क्लब ▁रूपन्देही ▁सुपर ▁लिग ▁क्रिकेट को ▁सेमिफाइनल ▁पुगेको ▁छ ▁। ▁भैरहवा मा ▁जारी ▁प्रतियोगिता को ▁लिग ▁चरणमा ▁डिभिजन ▁‘ ए ’ ▁अन्तर्गत ▁समूह ▁‘ डी ’ ▁को ▁खेलमा ▁खुकुरी ले ▁एम सिस ी ▁क्रिकेट ▁क्लब ▁भैरहवा लाई ▁ <unk> ▁विकेट ले ▁हरायो ▁।\n",
       "y: LMLabelList\n",
       ",,,,\n",
       "Path: /home/gaurav/PycharmProjects/nlp-for-nepali/classification;\n",
       "\n",
       "Test: None, model=SequentialRNN(\n",
       "  (0): AWD_LSTM(\n",
       "    (encoder): Embedding(15000, 400, padding_idx=1)\n",
       "    (encoder_dp): EmbeddingDropout(\n",
       "      (emb): Embedding(15000, 400, padding_idx=1)\n",
       "    )\n",
       "    (rnns): ModuleList(\n",
       "      (0): WeightDropout(\n",
       "        (module): LSTM(400, 1150, batch_first=True)\n",
       "      )\n",
       "      (1): WeightDropout(\n",
       "        (module): LSTM(1150, 1150, batch_first=True)\n",
       "      )\n",
       "      (2): WeightDropout(\n",
       "        (module): LSTM(1150, 400, batch_first=True)\n",
       "      )\n",
       "    )\n",
       "    (input_dp): RNNDropout()\n",
       "    (hidden_dps): ModuleList(\n",
       "      (0): RNNDropout()\n",
       "      (1): RNNDropout()\n",
       "      (2): RNNDropout()\n",
       "    )\n",
       "  )\n",
       "  (1): LinearDecoder(\n",
       "    (decoder): Linear(in_features=400, out_features=15000, bias=True)\n",
       "    (output_dp): RNNDropout()\n",
       "  )\n",
       "), opt_func=functools.partial(<class 'torch.optim.adam.Adam'>, betas=(0.9, 0.99)), loss_func=FlattenedLoss of CrossEntropyLoss(), metrics=[<function accuracy at 0x7f2db32e24d0>], true_wd=True, bn_wd=True, wd=0.01, train_bn=True, path=PosixPath('/home/gaurav/PycharmProjects/nlp-for-nepali/classification'), model_dir='models', callback_fns=[functools.partial(<class 'fastai.basic_train.Recorder'>, add_time=True, silent=False)], callbacks=[RNNTrainer\n",
       "learn: ...\n",
       "alpha: 2.0\n",
       "beta: 1.0], layer_groups=[Sequential(\n",
       "  (0): WeightDropout(\n",
       "    (module): LSTM(400, 1150, batch_first=True)\n",
       "  )\n",
       "  (1): RNNDropout()\n",
       "), Sequential(\n",
       "  (0): WeightDropout(\n",
       "    (module): LSTM(1150, 1150, batch_first=True)\n",
       "  )\n",
       "  (1): RNNDropout()\n",
       "), Sequential(\n",
       "  (0): WeightDropout(\n",
       "    (module): LSTM(1150, 400, batch_first=True)\n",
       "  )\n",
       "  (1): RNNDropout()\n",
       "), Sequential(\n",
       "  (0): Embedding(15000, 400, padding_idx=1)\n",
       "  (1): EmbeddingDropout(\n",
       "    (emb): Embedding(15000, 400, padding_idx=1)\n",
       "  )\n",
       "  (2): LinearDecoder(\n",
       "    (decoder): Linear(in_features=400, out_features=15000, bias=True)\n",
       "    (output_dp): RNNDropout()\n",
       "  )\n",
       ")], add_time=True, silent=False, cb_fns_registered=True)"
      ]
     },
     "execution_count": 35,
     "metadata": {},
     "output_type": "execute_result"
    }
   ],
   "source": [
    "# Loading the pretrained language model on nepali wikipedia\n",
    "learn.load('/home/gaurav/PycharmProjects/nlp-for-nepali/language-model/NepaliDataset/models/third_ne_lm', with_opt=True)"
   ]
  },
  {
   "cell_type": "code",
   "execution_count": 36,
   "metadata": {},
   "outputs": [],
   "source": [
    "# Fine tuning the prtrained LM on current dataset"
   ]
  },
  {
   "cell_type": "code",
   "execution_count": 37,
   "metadata": {},
   "outputs": [
    {
     "data": {
      "text/html": [],
      "text/plain": [
       "<IPython.core.display.HTML object>"
      ]
     },
     "metadata": {},
     "output_type": "display_data"
    },
    {
     "name": "stdout",
     "output_type": "stream",
     "text": [
      "LR Finder is complete, type {learner_name}.recorder.plot() to see the graph.\n"
     ]
    }
   ],
   "source": [
    "learn.lr_find()"
   ]
  },
  {
   "cell_type": "code",
   "execution_count": 38,
   "metadata": {},
   "outputs": [
    {
     "data": {
      "image/png": "[encoded data removed]",
      "text/plain": [
       "<Figure size 432x288 with 1 Axes>"
      ]
     },
     "metadata": {
      "needs_background": "light"
     },
     "output_type": "display_data"
    }
   ],
   "source": [
    "learn.recorder.plot()"
   ]
  },
  {
   "cell_type": "code",
   "execution_count": 39,
   "metadata": {},
   "outputs": [],
   "source": [
    "learn.freeze()"
   ]
  },
  {
   "cell_type": "code",
   "execution_count": 40,
   "metadata": {},
   "outputs": [
    {
     "data": {
      "text/html": [
       "<table border=\"1\" class=\"dataframe\">\n",
       "  <thead>\n",
       "    <tr style=\"text-align: left;\">\n",
       "      <th>epoch</th>\n",
       "      <th>train_loss</th>\n",
       "      <th>valid_loss</th>\n",
       "      <th>accuracy</th>\n",
       "      <th>time</th>\n",
       "    </tr>\n",
       "  </thead>\n",
       "  <tbody>\n",
       "    <tr>\n",
       "      <td>0</td>\n",
       "      <td>4.567451</td>\n",
       "      <td>4.399014</td>\n",
       "      <td>0.324680</td>\n",
       "      <td>00:25</td>\n",
       "    </tr>\n",
       "  </tbody>\n",
       "</table>"
      ],
      "text/plain": [
       "<IPython.core.display.HTML object>"
      ]
     },
     "metadata": {},
     "output_type": "display_data"
    }
   ],
   "source": [
    "learn.fit_one_cycle(1, 1e-2, moms=(0.8,0.7))"
   ]
  },
  {
   "cell_type": "code",
   "execution_count": 41,
   "metadata": {},
   "outputs": [],
   "source": [
    "learn.unfreeze()"
   ]
  },
  {
   "cell_type": "code",
   "execution_count": 42,
   "metadata": {
    "scrolled": true
   },
   "outputs": [
    {
     "data": {
      "text/html": [
       "<table border=\"1\" class=\"dataframe\">\n",
       "  <thead>\n",
       "    <tr style=\"text-align: left;\">\n",
       "      <th>epoch</th>\n",
       "      <th>train_loss</th>\n",
       "      <th>valid_loss</th>\n",
       "      <th>accuracy</th>\n",
       "      <th>time</th>\n",
       "    </tr>\n",
       "  </thead>\n",
       "  <tbody>\n",
       "    <tr>\n",
       "      <td>0</td>\n",
       "      <td>4.132091</td>\n",
       "      <td>4.220311</td>\n",
       "      <td>0.343497</td>\n",
       "      <td>00:28</td>\n",
       "    </tr>\n",
       "    <tr>\n",
       "      <td>1</td>\n",
       "      <td>3.903624</td>\n",
       "      <td>4.040626</td>\n",
       "      <td>0.365509</td>\n",
       "      <td>00:28</td>\n",
       "    </tr>\n",
       "    <tr>\n",
       "      <td>2</td>\n",
       "      <td>3.585473</td>\n",
       "      <td>3.966131</td>\n",
       "      <td>0.377690</td>\n",
       "      <td>00:28</td>\n",
       "    </tr>\n",
       "    <tr>\n",
       "      <td>3</td>\n",
       "      <td>3.339924</td>\n",
       "      <td>3.952757</td>\n",
       "      <td>0.380743</td>\n",
       "      <td>00:28</td>\n",
       "    </tr>\n",
       "    <tr>\n",
       "      <td>4</td>\n",
       "      <td>3.225586</td>\n",
       "      <td>3.963553</td>\n",
       "      <td>0.380600</td>\n",
       "      <td>00:29</td>\n",
       "    </tr>\n",
       "  </tbody>\n",
       "</table>"
      ],
      "text/plain": [
       "<IPython.core.display.HTML object>"
      ]
     },
     "metadata": {},
     "output_type": "display_data"
    }
   ],
   "source": [
    "learn.fit_one_cycle(5, 1e-3)"
   ]
  },
  {
   "cell_type": "code",
   "execution_count": 43,
   "metadata": {},
   "outputs": [
    {
     "data": {
      "text/plain": [
       "'हिमालय ट्राभल का रि मा ▁एन भी एम ▁बैंक ▁आज देखि ▁मुलुक'"
      ]
     },
     "execution_count": 43,
     "metadata": {},
     "output_type": "execute_result"
    }
   ],
   "source": [
    "learn.predict('हिमालय ट्राभल',n_words=10)"
   ]
  },
  {
   "cell_type": "code",
   "execution_count": 44,
   "metadata": {},
   "outputs": [],
   "source": [
    "learn.save_encoder('fine_tuned_enc')"
   ]
  },
  {
   "cell_type": "code",
   "execution_count": 45,
   "metadata": {},
   "outputs": [],
   "source": [
    "data_clas = TextClasDataBunch.from_df(path=path, train_df=train_df, valid_df=valid_df, tokenizer=tokenizer, vocab=nepali_vocab, text_cols=[0,1], label_cols=label_cols, bs=16)"
   ]
  },
  {
   "cell_type": "code",
   "execution_count": 46,
   "metadata": {},
   "outputs": [
    {
     "data": {
      "text/html": [
       "<table border=\"1\" class=\"dataframe\">\n",
       "  <thead>\n",
       "    <tr style=\"text-align: right;\">\n",
       "      <th>text</th>\n",
       "      <th>target</th>\n",
       "    </tr>\n",
       "  </thead>\n",
       "  <tbody>\n",
       "    <tr>\n",
       "      <td>▁ x x b os ▁गुरुकुल ▁न खु ले को ▁भए ▁रक्सी ▁बेच िरहेको ▁हुन्थे ं ▁: ▁' भ ष् मे ▁ डन ' ▁उम् दा ▁अनुहार ▁पनि ▁हैन ▁। ▁बलि ष्ठ ▁ज्यान ▁पनि ▁छैन ▁। ▁तर ▁वि पि न ▁कार्की ▁‘ हि रो ’ ▁बनेर ▁देखिए ▁‘ जात्रा ’ ▁मा ▁। ▁हुन ▁त ▁त्यसअघि ▁नै ▁उनी ▁‘ प शु पति ▁प्रसाद ’ ▁बाट ▁भ ष् मे ▁ डन का</td>\n",
       "      <td>entertainment</td>\n",
       "    </tr>\n",
       "    <tr>\n",
       "      <td>▁ x x b os ▁डिस् को ▁किङ ▁ब प्प ी ▁ न् ▁ &lt;unk&gt; ▁र ▁ &lt;unk&gt; ▁को ▁दशक ▁ब प्प ी ▁ला हि री को ▁थियो । ▁त्यो ▁बेला ▁उनले ▁संगीत ▁भर े का ▁जुन ▁कुनै ▁गीत ▁सुपर ▁हिट ▁हुन्थे । ▁‘ या द ▁आ ▁र हा ▁है ▁ते रा ▁प्यार ... ’ , ▁‘ आई ▁एम ▁अ ▁डिस् को ▁डान्स र ... ’ ▁‘ ज वानी ▁जाने</td>\n",
       "      <td>entertainment</td>\n",
       "    </tr>\n",
       "    <tr>\n",
       "      <td>▁ x x b os ▁‘ फे रि ▁फेरि ’ ▁मा ▁ऋ चा – अ र्पण ▁अभिनेता ▁/ ▁निर्देशक ▁अर्पण ▁थापा ▁र ▁अभिनेत्री ▁ऋ चा ▁शर्मा बीच ▁पछिल्लो ▁समय ▁फिल्म ी ▁सहकार्य ▁बा क्ल िएको ▁छ ▁। ▁पछिल्लो ▁पटक ▁अर्पण ले ▁आफूले ▁निर्देशन ▁गरेको ▁‘ आ धा ▁लभ ’ ▁मा ▁ऋ चा लाई ▁नै ▁मुख्य ▁भूमिकामा ▁प्रस्तुत ▁गरेका ▁थिए ▁भने ▁आफूले ▁पनि ▁स्क्रिन ▁सेयर ▁गरेका ▁थिए ▁। ▁पछि ▁यो ▁जोडी</td>\n",
       "      <td>entertainment</td>\n",
       "    </tr>\n",
       "    <tr>\n",
       "      <td>▁ x x b os ▁नेपालमा ▁पनि ▁लोकप्रिय ▁बन्दै ▁दक्षिण ▁भारतीय ▁फिल्म ▁पछिल्लो ▁समय ▁दक्षिण ▁भारतीय ▁फिल्म को ▁प्रभाव ▁विश्वव्यापी ▁बन्दै ▁गइरहेको ▁छ ▁। ▁नेपाल ▁पनि ▁अ छु तो ▁छैन ▁। ▁मंगलबार को ▁यु ट यु ब ▁ट्रे न्ड िङ ले ▁पनि ▁यसलाई ▁पुष्टि ▁गरेको ▁छ ▁। ▁मा ही ▁वी ▁राघव ▁निर्देशित ▁‘ क ञ्च ना ▁ &lt;unk&gt; ’ ▁र ▁भा ष् कर ▁निर्देशित ▁‘ राम की ▁जंग ’ ▁मंगलबार</td>\n",
       "      <td>entertainment</td>\n",
       "    </tr>\n",
       "    <tr>\n",
       "      <td>▁ x x b os ▁ने प्स े ▁ &lt;unk&gt; ▁सय ▁तल ▁काठमाडौं – ▁सोमबार ▁करिब ▁ &lt;unk&gt; ▁अंक ले ▁घटे को ▁बजार ▁मंगलबार ▁ &lt;unk&gt; ▁अंक भन्दा ▁धेरै ले ▁ओराल ो ▁लाग्यो ▁। ▁मंगलबार को ▁गिरावट ले ▁सेयर ▁कारोबार ▁मा पक ▁ने प्स े ▁परि सू चक ▁ &lt;unk&gt; ▁हजार ▁ &lt;unk&gt; ▁सय भन्दा ▁तल ▁ ( &lt;unk&gt; ▁हजार ▁ &lt;unk&gt; ▁सय ▁ &lt;unk&gt; . &lt;unk&gt; ) ▁झरे को</td>\n",
       "      <td>business</td>\n",
       "    </tr>\n",
       "  </tbody>\n",
       "</table>"
      ],
      "text/plain": [
       "<IPython.core.display.HTML object>"
      ]
     },
     "metadata": {},
     "output_type": "display_data"
    }
   ],
   "source": [
    "data_clas.show_batch()"
   ]
  },
  {
   "cell_type": "code",
   "execution_count": 47,
   "metadata": {},
   "outputs": [],
   "source": [
    "del awd_lstm_config['tie_weights']\n",
    "del awd_lstm_config['out_bias']"
   ]
  },
  {
   "cell_type": "code",
   "execution_count": 48,
   "metadata": {},
   "outputs": [],
   "source": [
    "learn = text_classifier_learner(data_clas, arch=AWD_LSTM, drop_mult=0.5, config=awd_lstm_config)"
   ]
  },
  {
   "cell_type": "code",
   "execution_count": 49,
   "metadata": {},
   "outputs": [
    {
     "data": {
      "text/plain": [
       "RNNLearner(data=TextClasDataBunch;\n",
       "\n",
       "Train: LabelList (5975 items)\n",
       "x: TextList\n",
       "▁ x x b os ▁‘ ल भ ▁स्टेसन ’ ▁भियतनाम ▁र ▁इन्डोनेसिया मा ▁नेपाली ▁कथानक ▁फिल्म ▁‘ ल भ ▁स्टेसन ’ ▁को ▁टिम ▁यति ▁बेला ▁भियतनाम ▁र ▁इन्डोनेसिया मा ▁छ ▁। ▁फिल्म को ▁गीत ▁छाया ंक न का ▁लागि ▁अभिनेता ▁प्रदीप ▁खड्का , ▁अभिनेत्री ▁जस िता ▁गुरुङ , ▁निर्माता ▁गोविन्द ▁शाही , ▁को रियो ग्राफ र ▁शिशिर ▁खा ती , ▁क्यामेरा ▁पर् सन ▁आ लोक ▁शुक्ल ा सहित को ▁टिम ▁यी ▁देश ▁पुगेका ▁हुन् ▁।,▁ x x b os ▁चाड बा ड लग त्त ै ▁तरकारी ▁स स्त ियो ▁दसैं को ▁मुखमा ▁अ स्वा भाव िक ▁बढेको ▁तरकारी ▁तथा ▁फलफूल को ▁भा उ ▁घट ्न ▁थालेको ▁छ ▁। ▁उत्पादन ▁वृद्धि सँगै ▁सहज ▁आपूर्ति का ▁कारण ▁मूल्य ▁घटे को ▁हो ▁।,▁ x x b os ▁कि ङ्ग फिस र ▁बियर ▁नेपाली ▁बजारमा ▁एशिय ा कै ▁ठूलो ▁बियर ▁कम्पनी ▁मध्येको ▁युनाइटेड ▁ब्रु अर ीज ▁लिमिटेड ले ▁यति ▁ब्रु अ री सँग को ▁सहकार्य मा ▁कि ङ्ग फिस र ▁बियर ▁बजारमा ▁ल्याएको ▁छ ▁।,▁ x x b os ▁अर्ब पति का ▁आँखा ▁अन्तरिक्ष तिर ▁संसार का ▁धन ा ढ ्य हरू ▁अन्तरिक्ष ▁यात्रा लाई ▁सस्तो ▁र ▁व्यावसायिक ▁रूपमा ▁सा कार ▁बनाउने ▁अभियानमा ▁स ामेल ▁हुने ▁क्रम ▁बढ्द ो ▁छ ▁। ▁यिनै मध्ये का ▁हुन् ▁अमेरिकी ▁अर्ब पति ▁इ लन ▁मस्क , ▁जे फ ▁बे जो स् ▁र ▁बेलायती ▁टाइ कु न ▁रिचर्ड ▁ब्रा न सन ▁।,▁ x x b os ▁‘ आई ▁एम ▁स री ’ ▁भन्दै ▁सौ गा त ▁ निक ेश ▁खड्का ▁निर्देशित ▁फिल्म ▁‘ फा टे को ▁जुत्ता ’ ▁को ▁हालै ▁सार्वजनिक ▁गीतमा ▁अभिनेता ▁सौ गा त ▁मल्ल ▁र ▁प्रिय ं का ▁कार्की ▁फि चर िङ ▁छन् ▁। ▁जसमा ▁सौ गा त ले ▁प्रिय ं का सँग ▁माफी ▁माग्ने ▁मु ड मा ▁फ क ाइरहेका ▁छन् ▁।\n",
       "y: CategoryList\n",
       "entertainment,business,business,business,entertainment\n",
       "Path: /home/gaurav/PycharmProjects/nlp-for-nepali/classification;\n",
       "\n",
       "Valid: LabelList (1495 items)\n",
       "x: TextList\n",
       "▁ x x b os ▁ <unk> ▁अर्ब ▁ <unk> ▁करोड ▁बजेट ▁फ्र िज ▁आर्थिक ▁वर्ष ▁ <unk> ▁/ ▁ <unk> ▁मा ▁जिल्लामा ▁आएको ▁ <unk> ▁अर्ब ▁ <unk> ▁करोड ▁ <unk> ▁लाख ▁रकम ▁फ्र िज ▁भएको ▁छ ▁। ▁चाल ु तर्फ ▁ <unk> ▁करोड ▁ <unk> ▁लाख ▁ <unk> ▁हजार ▁र ▁पुँजी गत तर्फ ▁ <unk> ▁करोड ▁ <unk> ▁लाख ▁ <unk> ▁हजार ▁रूपैयाँ ▁खर्च ▁हुन ▁नसके र ▁फिर्ता ▁गएको ▁हो ▁।,▁ x x b os ▁पुनर्निर्माण मा ▁भारतको ▁डेढ ▁अर्ब ▁गोरखा ▁र ▁नुवाकोट मा ▁भूकम्प बाट ▁क्षति ग्रस्त ▁पचास ▁हजार ▁घरको ▁पुनर्निर्माण का ▁लागि ▁भारत ▁सरकार ले ▁ <unk> ▁करोड ▁ <unk> ▁लाख ▁अमेरिकी ▁डलर ▁ ( <unk> ▁अर्ब ▁ <unk> ▁करोड ▁ <unk> ▁लाख ▁रुपैयाँ ) ▁अनुदान ▁सहयोग ▁गर्ने ▁भएको ▁छ ▁।,▁ x x b os ▁आपूर्ति ▁विभाग लाई ▁शक्तिशाली ▁बनाइ ँदै ▁सरकार ले ▁उपभोक्ता ▁ठ गी ▁गर्ने ▁व्यवसायी लाई ▁वाणिज्य , ▁आ पू ि र्त ▁तथा ▁उपभोक्ता ▁संरक्षण ▁विभाग ले ▁नै ▁कारबाही ▁गर्न ▁सक्ने ▁अधिकार सहित को ▁कानुन ▁जारी ▁गर्न ▁लागेको ▁छ ▁। ▁प्रस्तावित ▁उपभोक्ता ▁संरक्षण ▁ऐन ▁ <unk> ▁को ▁मस्यौदा मा ▁अनुगमन ▁निरीक्षक लाई ▁उक्त ▁अधिकार ▁दिन ▁लागेको ▁हो ▁।,▁ x x b os ▁स्वर सम् रा ट् को ▁सम्झना मा ▁संग्रहालय ▁स्वर सम् रा ट् ▁नारायणगोपाल को ▁सम्झना मा ▁संग्रहालय ▁बनाउने ▁तयारी ▁सुरु ▁भएको ▁छ ▁। ▁काठमाडौं ▁महानगरपालिका ▁वडा ▁नं . ▁ <unk> ▁मा ▁सो ▁संग्रहालय ▁बन्न ▁लागेको ▁वडा ध्यक्ष ▁दीपक ▁केसी ले ▁बताए ▁।,▁ x x b os ▁लुम्बिनी ▁सेमिफाइनल मा ▁लुम्बिनी ▁खुकुरी ▁क्रिकेट ▁क्लब ▁रूपन्देही ▁सुपर ▁लिग ▁क्रिकेट को ▁सेमिफाइनल ▁पुगेको ▁छ ▁। ▁भैरहवा मा ▁जारी ▁प्रतियोगिता को ▁लिग ▁चरणमा ▁डिभिजन ▁‘ ए ’ ▁अन्तर्गत ▁समूह ▁‘ डी ’ ▁को ▁खेलमा ▁खुकुरी ले ▁एम सिस ी ▁क्रिकेट ▁क्लब ▁भैरहवा लाई ▁ <unk> ▁विकेट ले ▁हरायो ▁।\n",
       "y: CategoryList\n",
       "business,business,business,entertainment,sports\n",
       "Path: /home/gaurav/PycharmProjects/nlp-for-nepali/classification;\n",
       "\n",
       "Test: None, model=SequentialRNN(\n",
       "  (0): MultiBatchEncoder(\n",
       "    (module): AWD_LSTM(\n",
       "      (encoder): Embedding(15000, 400, padding_idx=1)\n",
       "      (encoder_dp): EmbeddingDropout(\n",
       "        (emb): Embedding(15000, 400, padding_idx=1)\n",
       "      )\n",
       "      (rnns): ModuleList(\n",
       "        (0): WeightDropout(\n",
       "          (module): LSTM(400, 1150, batch_first=True)\n",
       "        )\n",
       "        (1): WeightDropout(\n",
       "          (module): LSTM(1150, 1150, batch_first=True)\n",
       "        )\n",
       "        (2): WeightDropout(\n",
       "          (module): LSTM(1150, 400, batch_first=True)\n",
       "        )\n",
       "      )\n",
       "      (input_dp): RNNDropout()\n",
       "      (hidden_dps): ModuleList(\n",
       "        (0): RNNDropout()\n",
       "        (1): RNNDropout()\n",
       "        (2): RNNDropout()\n",
       "      )\n",
       "    )\n",
       "  )\n",
       "  (1): PoolingLinearClassifier(\n",
       "    (layers): Sequential(\n",
       "      (0): BatchNorm1d(1200, eps=1e-05, momentum=0.1, affine=True, track_running_stats=True)\n",
       "      (1): Dropout(p=0.05)\n",
       "      (2): Linear(in_features=1200, out_features=50, bias=True)\n",
       "      (3): ReLU(inplace)\n",
       "      (4): BatchNorm1d(50, eps=1e-05, momentum=0.1, affine=True, track_running_stats=True)\n",
       "      (5): Dropout(p=0.1)\n",
       "      (6): Linear(in_features=50, out_features=3, bias=True)\n",
       "    )\n",
       "  )\n",
       "), opt_func=functools.partial(<class 'torch.optim.adam.Adam'>, betas=(0.9, 0.99)), loss_func=FlattenedLoss of CrossEntropyLoss(), metrics=[<function accuracy at 0x7f2db32e24d0>], true_wd=True, bn_wd=True, wd=0.01, train_bn=True, path=PosixPath('/home/gaurav/PycharmProjects/nlp-for-nepali/classification'), model_dir='models', callback_fns=[functools.partial(<class 'fastai.basic_train.Recorder'>, add_time=True, silent=False)], callbacks=[RNNTrainer\n",
       "learn: ...\n",
       "alpha: 2.0\n",
       "beta: 1.0], layer_groups=[Sequential(\n",
       "  (0): Embedding(15000, 400, padding_idx=1)\n",
       "  (1): EmbeddingDropout(\n",
       "    (emb): Embedding(15000, 400, padding_idx=1)\n",
       "  )\n",
       "), Sequential(\n",
       "  (0): WeightDropout(\n",
       "    (module): LSTM(400, 1150, batch_first=True)\n",
       "  )\n",
       "  (1): RNNDropout()\n",
       "), Sequential(\n",
       "  (0): WeightDropout(\n",
       "    (module): LSTM(1150, 1150, batch_first=True)\n",
       "  )\n",
       "  (1): RNNDropout()\n",
       "), Sequential(\n",
       "  (0): WeightDropout(\n",
       "    (module): LSTM(1150, 400, batch_first=True)\n",
       "  )\n",
       "  (1): RNNDropout()\n",
       "), Sequential(\n",
       "  (0): PoolingLinearClassifier(\n",
       "    (layers): Sequential(\n",
       "      (0): BatchNorm1d(1200, eps=1e-05, momentum=0.1, affine=True, track_running_stats=True)\n",
       "      (1): Dropout(p=0.05)\n",
       "      (2): Linear(in_features=1200, out_features=50, bias=True)\n",
       "      (3): ReLU(inplace)\n",
       "      (4): BatchNorm1d(50, eps=1e-05, momentum=0.1, affine=True, track_running_stats=True)\n",
       "      (5): Dropout(p=0.1)\n",
       "      (6): Linear(in_features=50, out_features=3, bias=True)\n",
       "    )\n",
       "  )\n",
       ")], add_time=True, silent=False, cb_fns_registered=False)"
      ]
     },
     "execution_count": 49,
     "metadata": {},
     "output_type": "execute_result"
    }
   ],
   "source": [
    "learn.load_encoder('fine_tuned_enc')"
   ]
  },
  {
   "cell_type": "code",
   "execution_count": 50,
   "metadata": {},
   "outputs": [],
   "source": [
    "learn.freeze()"
   ]
  },
  {
   "cell_type": "code",
   "execution_count": 51,
   "metadata": {},
   "outputs": [
    {
     "data": {
      "text/html": [],
      "text/plain": [
       "<IPython.core.display.HTML object>"
      ]
     },
     "metadata": {},
     "output_type": "display_data"
    },
    {
     "name": "stdout",
     "output_type": "stream",
     "text": [
      "LR Finder is complete, type {learner_name}.recorder.plot() to see the graph.\n"
     ]
    }
   ],
   "source": [
    "learn.lr_find()"
   ]
  },
  {
   "cell_type": "code",
   "execution_count": 52,
   "metadata": {},
   "outputs": [
    {
     "data": {
      "image/png": "[encoded data removed]",
      "text/plain": [
       "<Figure size 432x288 with 1 Axes>"
      ]
     },
     "metadata": {
      "needs_background": "light"
     },
     "output_type": "display_data"
    }
   ],
   "source": [
    "learn.recorder.plot()"
   ]
  },
  {
   "cell_type": "code",
   "execution_count": 53,
   "metadata": {},
   "outputs": [
    {
     "data": {
      "text/plain": [
       "CrossEntropyLoss()"
      ]
     },
     "execution_count": 53,
     "metadata": {},
     "output_type": "execute_result"
    }
   ],
   "source": [
    "learn.loss_func.func"
   ]
  },
  {
   "cell_type": "code",
   "execution_count": 54,
   "metadata": {},
   "outputs": [],
   "source": [
    "kappa = KappaScore()"
   ]
  },
  {
   "cell_type": "code",
   "execution_count": 55,
   "metadata": {},
   "outputs": [],
   "source": [
    "learn.metrics = [kappa, accuracy]"
   ]
  },
  {
   "cell_type": "code",
   "execution_count": 56,
   "metadata": {},
   "outputs": [
    {
     "data": {
      "text/html": [
       "<table border=\"1\" class=\"dataframe\">\n",
       "  <thead>\n",
       "    <tr style=\"text-align: left;\">\n",
       "      <th>epoch</th>\n",
       "      <th>train_loss</th>\n",
       "      <th>valid_loss</th>\n",
       "      <th>kappa_score</th>\n",
       "      <th>accuracy</th>\n",
       "      <th>time</th>\n",
       "    </tr>\n",
       "  </thead>\n",
       "  <tbody>\n",
       "    <tr>\n",
       "      <td>0</td>\n",
       "      <td>0.171407</td>\n",
       "      <td>0.101433</td>\n",
       "      <td>0.954772</td>\n",
       "      <td>0.969900</td>\n",
       "      <td>00:18</td>\n",
       "    </tr>\n",
       "  </tbody>\n",
       "</table>"
      ],
      "text/plain": [
       "<IPython.core.display.HTML object>"
      ]
     },
     "metadata": {},
     "output_type": "display_data"
    }
   ],
   "source": [
    "learn.fit_one_cycle(1, 1e-2, moms=(0.8,0.7))"
   ]
  },
  {
   "cell_type": "code",
   "execution_count": 57,
   "metadata": {},
   "outputs": [
    {
     "data": {
      "text/html": [
       "<table border=\"1\" class=\"dataframe\">\n",
       "  <thead>\n",
       "    <tr style=\"text-align: left;\">\n",
       "      <th>epoch</th>\n",
       "      <th>train_loss</th>\n",
       "      <th>valid_loss</th>\n",
       "      <th>kappa_score</th>\n",
       "      <th>accuracy</th>\n",
       "      <th>time</th>\n",
       "    </tr>\n",
       "  </thead>\n",
       "  <tbody>\n",
       "    <tr>\n",
       "      <td>0</td>\n",
       "      <td>0.130235</td>\n",
       "      <td>0.091205</td>\n",
       "      <td>0.955756</td>\n",
       "      <td>0.970569</td>\n",
       "      <td>00:19</td>\n",
       "    </tr>\n",
       "  </tbody>\n",
       "</table>"
      ],
      "text/plain": [
       "<IPython.core.display.HTML object>"
      ]
     },
     "metadata": {},
     "output_type": "display_data"
    }
   ],
   "source": [
    "learn.freeze_to(-2)\n",
    "learn.fit_one_cycle(1, 1e-3)"
   ]
  },
  {
   "cell_type": "code",
   "execution_count": 58,
   "metadata": {},
   "outputs": [],
   "source": [
    "learn.save('second-full')"
   ]
  },
  {
   "cell_type": "code",
   "execution_count": 59,
   "metadata": {},
   "outputs": [
    {
     "data": {
      "text/html": [
       "<table border=\"1\" class=\"dataframe\">\n",
       "  <thead>\n",
       "    <tr style=\"text-align: left;\">\n",
       "      <th>epoch</th>\n",
       "      <th>train_loss</th>\n",
       "      <th>valid_loss</th>\n",
       "      <th>kappa_score</th>\n",
       "      <th>accuracy</th>\n",
       "      <th>time</th>\n",
       "    </tr>\n",
       "  </thead>\n",
       "  <tbody>\n",
       "    <tr>\n",
       "      <td>0</td>\n",
       "      <td>0.104383</td>\n",
       "      <td>0.068865</td>\n",
       "      <td>0.966808</td>\n",
       "      <td>0.977926</td>\n",
       "      <td>00:30</td>\n",
       "    </tr>\n",
       "    <tr>\n",
       "      <td>1</td>\n",
       "      <td>0.091685</td>\n",
       "      <td>0.053718</td>\n",
       "      <td>0.972846</td>\n",
       "      <td>0.981940</td>\n",
       "      <td>00:28</td>\n",
       "    </tr>\n",
       "    <tr>\n",
       "      <td>2</td>\n",
       "      <td>0.033540</td>\n",
       "      <td>0.076467</td>\n",
       "      <td>0.968830</td>\n",
       "      <td>0.979264</td>\n",
       "      <td>00:30</td>\n",
       "    </tr>\n",
       "    <tr>\n",
       "      <td>3</td>\n",
       "      <td>0.020372</td>\n",
       "      <td>0.062270</td>\n",
       "      <td>0.977876</td>\n",
       "      <td>0.985284</td>\n",
       "      <td>00:30</td>\n",
       "    </tr>\n",
       "    <tr>\n",
       "      <td>4</td>\n",
       "      <td>0.006947</td>\n",
       "      <td>0.060823</td>\n",
       "      <td>0.977873</td>\n",
       "      <td>0.985284</td>\n",
       "      <td>00:31</td>\n",
       "    </tr>\n",
       "  </tbody>\n",
       "</table>"
      ],
      "text/plain": [
       "<IPython.core.display.HTML object>"
      ]
     },
     "metadata": {},
     "output_type": "display_data"
    },
    {
     "name": "stdout",
     "output_type": "stream",
     "text": [
      "Better model found at epoch 0 with accuracy value: 0.9779264330863953.\n",
      "Better model found at epoch 1 with accuracy value: 0.9819397926330566.\n",
      "Better model found at epoch 3 with accuracy value: 0.9852842688560486.\n"
     ]
    }
   ],
   "source": [
    "learn.unfreeze()\n",
    "learn.fit_one_cycle(5, 1e-3, callbacks=[callbacks.SaveModelCallback(learn, every='improvement', monitor='accuracy', name='final')])"
   ]
  },
  {
   "cell_type": "code",
   "execution_count": 60,
   "metadata": {},
   "outputs": [
    {
     "data": {
      "text/plain": [
       "(Category entertainment, tensor(1), tensor([0.0256, 0.9733, 0.0011]))"
      ]
     },
     "execution_count": 60,
     "metadata": {},
     "output_type": "execute_result"
    }
   ],
   "source": [
    "learn.predict('फेसबुकले बेहोर्‍यो हालसम्मकै सबभन्दा खराब समस्या')"
   ]
  },
  {
   "cell_type": "code",
   "execution_count": 61,
   "metadata": {},
   "outputs": [
    {
     "data": {
      "text/plain": [
       "(Category sports, tensor(2), tensor([1.8947e-04, 1.2981e-02, 9.8683e-01]))"
      ]
     },
     "execution_count": 61,
     "metadata": {},
     "output_type": "execute_result"
    }
   ],
   "source": [
    "learn.predict(\"साफ महिला च्याम्पियनसिप : बंगालदेश र भुटान भिड्दै\")"
   ]
  },
  {
   "cell_type": "code",
   "execution_count": 62,
   "metadata": {},
   "outputs": [
    {
     "data": {
      "text/plain": [
       "(Category sports, tensor(2), tensor([4.3709e-05, 2.5377e-05, 9.9993e-01]))"
      ]
     },
     "execution_count": 62,
     "metadata": {},
     "output_type": "execute_result"
    }
   ],
   "source": [
    "learn.predict(\"अष्ट्रेलियालाई एकदिवसीय सिरिज, घरेलु मैदानमा गुमायो भारतले मौका\")"
   ]
  },
  {
   "cell_type": "code",
   "execution_count": 63,
   "metadata": {},
   "outputs": [
    {
     "data": {
      "text/plain": [
       "(Category sports, tensor(2), tensor([8.5025e-05, 1.8045e-03, 9.9811e-01]))"
      ]
     },
     "execution_count": 63,
     "metadata": {},
     "output_type": "execute_result"
    }
   ],
   "source": [
    "learn.predict(\"बंगलादेशविरुद्ध टेस्ट सिरज न्यूजिल्यान्डले जित्यो\")"
   ]
  },
  {
   "cell_type": "code",
   "execution_count": 64,
   "metadata": {},
   "outputs": [
    {
     "data": {
      "text/plain": [
       "(Category business, tensor(0), tensor([0.5763, 0.4222, 0.0015]))"
      ]
     },
     "execution_count": 64,
     "metadata": {},
     "output_type": "execute_result"
    }
   ],
   "source": [
    "learn.predict(\"लगानी सम्मेलनमा प्रस्तुत गर्न ४३ परियोजना निश्चित\")"
   ]
  },
  {
   "cell_type": "code",
   "execution_count": null,
   "metadata": {},
   "outputs": [],
   "source": []
  }
 ],
 "metadata": {
  "kernelspec": {
   "display_name": "Python 3",
   "language": "python",
   "name": "python3"
  },
  "language_info": {
   "codemirror_mode": {
    "name": "ipython",
    "version": 3
   },
   "file_extension": ".py",
   "mimetype": "text/x-python",
   "name": "python",
   "nbconvert_exporter": "python",
   "pygments_lexer": "ipython3",
   "version": "3.7.3"
  }
 },
 "nbformat": 4,
 "nbformat_minor": 2
}
